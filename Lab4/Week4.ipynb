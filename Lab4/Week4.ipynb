{
 "cells": [
  {
   "cell_type": "code",
   "execution_count": 1,
   "id": "fd1c6405",
   "metadata": {},
   "outputs": [],
   "source": [
    "data={\n",
    "    'Temp':[50,50,50,70,70,70,80,80,80,90,90,90,100,100,100],\n",
    "    'Yield':[3.3,2.8,2.9,2.3,2.6,2.1,2.5,2.9,2.4,3.0,3.1,2.8,3.3,3.5,3.0]\n",
    "}"
   ]
  },
  {
   "cell_type": "code",
   "execution_count": 19,
   "id": "ab27de8c",
   "metadata": {},
   "outputs": [],
   "source": [
    "import pandas as pd\n",
    "import numpy as np\n",
    "import matplotlib.pyplot as plt"
   ]
  },
  {
   "cell_type": "code",
   "execution_count": 4,
   "id": "92f4edd3",
   "metadata": {},
   "outputs": [
    {
     "data": {
      "text/html": [
       "<div>\n",
       "<style scoped>\n",
       "    .dataframe tbody tr th:only-of-type {\n",
       "        vertical-align: middle;\n",
       "    }\n",
       "\n",
       "    .dataframe tbody tr th {\n",
       "        vertical-align: top;\n",
       "    }\n",
       "\n",
       "    .dataframe thead th {\n",
       "        text-align: right;\n",
       "    }\n",
       "</style>\n",
       "<table border=\"1\" class=\"dataframe\">\n",
       "  <thead>\n",
       "    <tr style=\"text-align: right;\">\n",
       "      <th></th>\n",
       "      <th>Temp</th>\n",
       "      <th>Yield</th>\n",
       "    </tr>\n",
       "  </thead>\n",
       "  <tbody>\n",
       "    <tr>\n",
       "      <th>0</th>\n",
       "      <td>50</td>\n",
       "      <td>3.3</td>\n",
       "    </tr>\n",
       "    <tr>\n",
       "      <th>1</th>\n",
       "      <td>50</td>\n",
       "      <td>2.8</td>\n",
       "    </tr>\n",
       "    <tr>\n",
       "      <th>2</th>\n",
       "      <td>50</td>\n",
       "      <td>2.9</td>\n",
       "    </tr>\n",
       "    <tr>\n",
       "      <th>3</th>\n",
       "      <td>70</td>\n",
       "      <td>2.3</td>\n",
       "    </tr>\n",
       "    <tr>\n",
       "      <th>4</th>\n",
       "      <td>70</td>\n",
       "      <td>2.6</td>\n",
       "    </tr>\n",
       "    <tr>\n",
       "      <th>5</th>\n",
       "      <td>70</td>\n",
       "      <td>2.1</td>\n",
       "    </tr>\n",
       "    <tr>\n",
       "      <th>6</th>\n",
       "      <td>80</td>\n",
       "      <td>2.5</td>\n",
       "    </tr>\n",
       "    <tr>\n",
       "      <th>7</th>\n",
       "      <td>80</td>\n",
       "      <td>2.9</td>\n",
       "    </tr>\n",
       "    <tr>\n",
       "      <th>8</th>\n",
       "      <td>80</td>\n",
       "      <td>2.4</td>\n",
       "    </tr>\n",
       "    <tr>\n",
       "      <th>9</th>\n",
       "      <td>90</td>\n",
       "      <td>3.0</td>\n",
       "    </tr>\n",
       "    <tr>\n",
       "      <th>10</th>\n",
       "      <td>90</td>\n",
       "      <td>3.1</td>\n",
       "    </tr>\n",
       "    <tr>\n",
       "      <th>11</th>\n",
       "      <td>90</td>\n",
       "      <td>2.8</td>\n",
       "    </tr>\n",
       "    <tr>\n",
       "      <th>12</th>\n",
       "      <td>100</td>\n",
       "      <td>3.3</td>\n",
       "    </tr>\n",
       "    <tr>\n",
       "      <th>13</th>\n",
       "      <td>100</td>\n",
       "      <td>3.5</td>\n",
       "    </tr>\n",
       "    <tr>\n",
       "      <th>14</th>\n",
       "      <td>100</td>\n",
       "      <td>3.0</td>\n",
       "    </tr>\n",
       "  </tbody>\n",
       "</table>\n",
       "</div>"
      ],
      "text/plain": [
       "    Temp  Yield\n",
       "0     50    3.3\n",
       "1     50    2.8\n",
       "2     50    2.9\n",
       "3     70    2.3\n",
       "4     70    2.6\n",
       "5     70    2.1\n",
       "6     80    2.5\n",
       "7     80    2.9\n",
       "8     80    2.4\n",
       "9     90    3.0\n",
       "10    90    3.1\n",
       "11    90    2.8\n",
       "12   100    3.3\n",
       "13   100    3.5\n",
       "14   100    3.0"
      ]
     },
     "execution_count": 4,
     "metadata": {},
     "output_type": "execute_result"
    }
   ],
   "source": [
    "df=pd.DataFrame(data)\n",
    "df"
   ]
  },
  {
   "cell_type": "code",
   "execution_count": 5,
   "id": "9bc1c62c",
   "metadata": {},
   "outputs": [
    {
     "data": {
      "text/html": [
       "<div>\n",
       "<style scoped>\n",
       "    .dataframe tbody tr th:only-of-type {\n",
       "        vertical-align: middle;\n",
       "    }\n",
       "\n",
       "    .dataframe tbody tr th {\n",
       "        vertical-align: top;\n",
       "    }\n",
       "\n",
       "    .dataframe thead th {\n",
       "        text-align: right;\n",
       "    }\n",
       "</style>\n",
       "<table border=\"1\" class=\"dataframe\">\n",
       "  <thead>\n",
       "    <tr style=\"text-align: right;\">\n",
       "      <th></th>\n",
       "      <th>Temp</th>\n",
       "      <th>Yield</th>\n",
       "    </tr>\n",
       "  </thead>\n",
       "  <tbody>\n",
       "    <tr>\n",
       "      <th>0</th>\n",
       "      <td>50</td>\n",
       "      <td>3.3</td>\n",
       "    </tr>\n",
       "    <tr>\n",
       "      <th>1</th>\n",
       "      <td>50</td>\n",
       "      <td>2.8</td>\n",
       "    </tr>\n",
       "    <tr>\n",
       "      <th>2</th>\n",
       "      <td>50</td>\n",
       "      <td>2.9</td>\n",
       "    </tr>\n",
       "    <tr>\n",
       "      <th>3</th>\n",
       "      <td>70</td>\n",
       "      <td>2.3</td>\n",
       "    </tr>\n",
       "    <tr>\n",
       "      <th>4</th>\n",
       "      <td>70</td>\n",
       "      <td>2.6</td>\n",
       "    </tr>\n",
       "  </tbody>\n",
       "</table>\n",
       "</div>"
      ],
      "text/plain": [
       "   Temp  Yield\n",
       "0    50    3.3\n",
       "1    50    2.8\n",
       "2    50    2.9\n",
       "3    70    2.3\n",
       "4    70    2.6"
      ]
     },
     "execution_count": 5,
     "metadata": {},
     "output_type": "execute_result"
    }
   ],
   "source": [
    "df.head()"
   ]
  },
  {
   "cell_type": "code",
   "execution_count": 6,
   "id": "92246703",
   "metadata": {},
   "outputs": [],
   "source": [
    "df.to_csv('data.csv',index=False)"
   ]
  },
  {
   "cell_type": "markdown",
   "id": "29989713",
   "metadata": {},
   "source": [
    "# Simple Linear"
   ]
  },
  {
   "cell_type": "code",
   "execution_count": 9,
   "id": "4eb0ab7e",
   "metadata": {},
   "outputs": [],
   "source": [
    "a=df['Temp']\n",
    "b=df['Yield']\n",
    "a=np.array(a)\n",
    "b=np.array(b)"
   ]
  },
  {
   "cell_type": "code",
   "execution_count": 22,
   "id": "a8bcc747",
   "metadata": {},
   "outputs": [
    {
     "data": {
      "text/plain": [
       "15"
      ]
     },
     "execution_count": 22,
     "metadata": {},
     "output_type": "execute_result"
    }
   ],
   "source": [
    "len(a)"
   ]
  },
  {
   "cell_type": "code",
   "execution_count": 11,
   "id": "7eba39a3",
   "metadata": {},
   "outputs": [
    {
     "data": {
      "text/plain": [
       "array([3.3, 2.8, 2.9, 2.3, 2.6, 2.1, 2.5, 2.9, 2.4, 3. , 3.1, 2.8, 3.3,\n",
       "       3.5, 3. ])"
      ]
     },
     "execution_count": 11,
     "metadata": {},
     "output_type": "execute_result"
    }
   ],
   "source": [
    "b"
   ]
  },
  {
   "cell_type": "code",
   "execution_count": 12,
   "id": "4072df18",
   "metadata": {},
   "outputs": [],
   "source": [
    "temp_mean=np.mean(a)\n",
    "yield_mean=np.mean(b)\n",
    "numerator=np.sum((a-temp_mean)*(b-yield_mean))\n",
    "denominator=np.sum((a-temp_mean)**2)\n",
    "B1=numerator/denominator\n",
    "B0=yield_mean-temp_mean*B1"
   ]
  },
  {
   "cell_type": "code",
   "execution_count": 13,
   "id": "081ae29c",
   "metadata": {},
   "outputs": [
    {
     "name": "stdout",
     "output_type": "stream",
     "text": [
      "2.306306306306306\n"
     ]
    }
   ],
   "source": [
    "print(B0)"
   ]
  },
  {
   "cell_type": "code",
   "execution_count": 14,
   "id": "a9bdc923",
   "metadata": {},
   "outputs": [
    {
     "name": "stdout",
     "output_type": "stream",
     "text": [
      "0.006756756756756758\n"
     ]
    }
   ],
   "source": [
    "print(B1)"
   ]
  },
  {
   "cell_type": "code",
   "execution_count": 49,
   "id": "f69f9786",
   "metadata": {},
   "outputs": [
    {
     "data": {
      "text/plain": [
       "0.36429206511905904"
      ]
     },
     "execution_count": 49,
     "metadata": {},
     "output_type": "execute_result"
    }
   ],
   "source": [
    "y_pred=B0+B1*a\n",
    "squared_err = (b-y_pred)**2\n",
    "rmse_mat = np.sqrt(np.mean(squared_err))\n",
    "rmse_mat"
   ]
  },
  {
   "cell_type": "code",
   "execution_count": 20,
   "id": "dd69eed3",
   "metadata": {},
   "outputs": [
    {
     "data": {
      "image/png": "[encoded data removed]",
      "text/plain": [
       "<Figure size 640x480 with 1 Axes>"
      ]
     },
     "metadata": {},
     "output_type": "display_data"
    }
   ],
   "source": [
    "\n",
    "\n",
    "temp_range = np.linspace(a.min(), a.max(), 100)  # 100 points from min to max of Temp\n",
    "yield_predictions = B0 + B1 * temp_range\n",
    "\n",
    "plt.scatter(a, b, color='blue', label='Original Data')\n",
    "\n",
    "\n",
    "plt.plot(temp_range, yield_predictions, color='red', label=f'Fitted Line: Y = {B0:.2f} + {B1:.2f}X')\n",
    "\n",
    "\n",
    "plt.xlabel('Temperature')\n",
    "plt.ylabel('Yield')\n",
    "plt.title('Simple Linear Regression')\n",
    "plt.legend()\n",
    "\n",
    "# Show the plot\n",
    "plt.show()"
   ]
  },
  {
   "cell_type": "markdown",
   "id": "8056f308",
   "metadata": {},
   "source": [
    "# Polynomial"
   ]
  },
  {
   "cell_type": "code",
   "execution_count": 23,
   "id": "62861366",
   "metadata": {},
   "outputs": [
    {
     "data": {
      "text/plain": [
       "[[15, 1170, 95700], [1170, 95700, 8127000], [95700, 8127000, 710490000]]"
      ]
     },
     "execution_count": 23,
     "metadata": {},
     "output_type": "execute_result"
    }
   ],
   "source": [
    "mat1=[[15,np.sum(a),np.sum(a*a)],[np.sum(a),np.sum(a*a),np.sum(a*a*a)],[np.sum(a*a),np.sum(a*a*a),np.sum(a*a*a*a)]]\n",
    "mat1"
   ]
  },
  {
   "cell_type": "code",
   "execution_count": 25,
   "id": "5b8c251e",
   "metadata": {},
   "outputs": [
    {
     "data": {
      "text/plain": [
       "array([[       15,      1170,     95700],\n",
       "       [     1170,     95700,   8127000],\n",
       "       [    95700,   8127000, 710490000]])"
      ]
     },
     "execution_count": 25,
     "metadata": {},
     "output_type": "execute_result"
    }
   ],
   "source": [
    "mat1=np.array(mat1)\n",
    "mat1"
   ]
  },
  {
   "cell_type": "code",
   "execution_count": 27,
   "id": "a76a75b0",
   "metadata": {},
   "outputs": [
    {
     "data": {
      "text/plain": [
       "array([4.2500e+01, 3.3450e+03, 2.7681e+05])"
      ]
     },
     "execution_count": 27,
     "metadata": {},
     "output_type": "execute_result"
    }
   ],
   "source": [
    "mat2=[np.sum(b),np.sum(a*b),np.sum(a*a*b)]\n",
    "mat2=np.array(mat2)\n",
    "mat2"
   ]
  },
  {
   "cell_type": "code",
   "execution_count": 28,
   "id": "a6796324",
   "metadata": {},
   "outputs": [
    {
     "data": {
      "text/plain": [
       "array([[ 2.65336279e+01, -7.29823270e-01,  4.77417771e-03],\n",
       "       [-7.29823270e-01,  2.04393716e-02, -1.35493373e-04],\n",
       "       [ 4.77417771e-03, -1.35493373e-04,  9.08198331e-07]])"
      ]
     },
     "execution_count": 28,
     "metadata": {},
     "output_type": "execute_result"
    }
   ],
   "source": [
    "mat1=np.linalg.inv(mat1)\n",
    "mat1"
   ]
  },
  {
   "cell_type": "code",
   "execution_count": 30,
   "id": "a77a7123",
   "metadata": {},
   "outputs": [
    {
     "data": {
      "text/plain": [
       "array([ 7.96048110e+00, -1.53711340e-01,  1.07560137e-03])"
      ]
     },
     "execution_count": 30,
     "metadata": {},
     "output_type": "execute_result"
    }
   ],
   "source": [
    "mat3=mat1@mat2\n",
    "mat3"
   ]
  },
  {
   "cell_type": "code",
   "execution_count": 31,
   "id": "2fc5f8bf",
   "metadata": {},
   "outputs": [],
   "source": [
    "b0,b1,b2=mat3"
   ]
  },
  {
   "cell_type": "code",
   "execution_count": 48,
   "id": "c8c48885",
   "metadata": {},
   "outputs": [
    {
     "data": {
      "text/plain": [
       "1394.3741206989291"
      ]
     },
     "execution_count": 48,
     "metadata": {},
     "output_type": "execute_result"
    }
   ],
   "source": [
    "y_pred=b0+b1*a+b2*a**2\n",
    "y_pred\n",
    "squared_err = (b-y_pred)**2\n",
    "rmse_mat = np.sqrt(np.mean(squared_err))\n",
    "rmse_mat"
   ]
  },
  {
   "cell_type": "code",
   "execution_count": 40,
   "id": "53a54761",
   "metadata": {},
   "outputs": [
    {
     "data": {
      "image/png": "[encoded data removed]",
      "text/plain": [
       "<Figure size 640x480 with 1 Axes>"
      ]
     },
     "metadata": {},
     "output_type": "display_data"
    }
   ],
   "source": [
    "plt.scatter(a,b,color='blue',label='Data')\n",
    "plt.plot(a,y_pred,color='red',label='rr')\n",
    "plt.show()"
   ]
  },
  {
   "cell_type": "markdown",
   "id": "0a53233f",
   "metadata": {},
   "source": [
    "# Q2"
   ]
  },
  {
   "cell_type": "code",
   "execution_count": 45,
   "id": "7591f4af",
   "metadata": {},
   "outputs": [
    {
     "data": {
      "text/html": [
       "<div>\n",
       "<style scoped>\n",
       "    .dataframe tbody tr th:only-of-type {\n",
       "        vertical-align: middle;\n",
       "    }\n",
       "\n",
       "    .dataframe tbody tr th {\n",
       "        vertical-align: top;\n",
       "    }\n",
       "\n",
       "    .dataframe thead th {\n",
       "        text-align: right;\n",
       "    }\n",
       "</style>\n",
       "<table border=\"1\" class=\"dataframe\">\n",
       "  <thead>\n",
       "    <tr style=\"text-align: right;\">\n",
       "      <th></th>\n",
       "      <th>Infarc</th>\n",
       "      <th>Area</th>\n",
       "      <th>Group</th>\n",
       "      <th>X2</th>\n",
       "      <th>X3</th>\n",
       "    </tr>\n",
       "  </thead>\n",
       "  <tbody>\n",
       "    <tr>\n",
       "      <th>0</th>\n",
       "      <td>0.119</td>\n",
       "      <td>0.34</td>\n",
       "      <td>3</td>\n",
       "      <td>0</td>\n",
       "      <td>0</td>\n",
       "    </tr>\n",
       "    <tr>\n",
       "      <th>1</th>\n",
       "      <td>0.190</td>\n",
       "      <td>0.64</td>\n",
       "      <td>3</td>\n",
       "      <td>0</td>\n",
       "      <td>0</td>\n",
       "    </tr>\n",
       "    <tr>\n",
       "      <th>2</th>\n",
       "      <td>0.395</td>\n",
       "      <td>0.76</td>\n",
       "      <td>3</td>\n",
       "      <td>0</td>\n",
       "      <td>0</td>\n",
       "    </tr>\n",
       "    <tr>\n",
       "      <th>3</th>\n",
       "      <td>0.469</td>\n",
       "      <td>0.83</td>\n",
       "      <td>3</td>\n",
       "      <td>0</td>\n",
       "      <td>0</td>\n",
       "    </tr>\n",
       "    <tr>\n",
       "      <th>4</th>\n",
       "      <td>0.130</td>\n",
       "      <td>0.73</td>\n",
       "      <td>3</td>\n",
       "      <td>0</td>\n",
       "      <td>0</td>\n",
       "    </tr>\n",
       "    <tr>\n",
       "      <th>5</th>\n",
       "      <td>0.311</td>\n",
       "      <td>0.82</td>\n",
       "      <td>3</td>\n",
       "      <td>0</td>\n",
       "      <td>0</td>\n",
       "    </tr>\n",
       "    <tr>\n",
       "      <th>6</th>\n",
       "      <td>0.418</td>\n",
       "      <td>0.95</td>\n",
       "      <td>3</td>\n",
       "      <td>0</td>\n",
       "      <td>0</td>\n",
       "    </tr>\n",
       "    <tr>\n",
       "      <th>7</th>\n",
       "      <td>0.480</td>\n",
       "      <td>1.06</td>\n",
       "      <td>3</td>\n",
       "      <td>0</td>\n",
       "      <td>0</td>\n",
       "    </tr>\n",
       "    <tr>\n",
       "      <th>8</th>\n",
       "      <td>0.687</td>\n",
       "      <td>1.20</td>\n",
       "      <td>3</td>\n",
       "      <td>0</td>\n",
       "      <td>0</td>\n",
       "    </tr>\n",
       "    <tr>\n",
       "      <th>9</th>\n",
       "      <td>0.847</td>\n",
       "      <td>1.47</td>\n",
       "      <td>3</td>\n",
       "      <td>0</td>\n",
       "      <td>0</td>\n",
       "    </tr>\n",
       "    <tr>\n",
       "      <th>10</th>\n",
       "      <td>0.062</td>\n",
       "      <td>0.44</td>\n",
       "      <td>1</td>\n",
       "      <td>1</td>\n",
       "      <td>0</td>\n",
       "    </tr>\n",
       "    <tr>\n",
       "      <th>11</th>\n",
       "      <td>0.122</td>\n",
       "      <td>0.77</td>\n",
       "      <td>1</td>\n",
       "      <td>1</td>\n",
       "      <td>0</td>\n",
       "    </tr>\n",
       "    <tr>\n",
       "      <th>12</th>\n",
       "      <td>0.033</td>\n",
       "      <td>0.90</td>\n",
       "      <td>1</td>\n",
       "      <td>1</td>\n",
       "      <td>0</td>\n",
       "    </tr>\n",
       "    <tr>\n",
       "      <th>13</th>\n",
       "      <td>0.102</td>\n",
       "      <td>1.07</td>\n",
       "      <td>1</td>\n",
       "      <td>1</td>\n",
       "      <td>0</td>\n",
       "    </tr>\n",
       "    <tr>\n",
       "      <th>14</th>\n",
       "      <td>0.206</td>\n",
       "      <td>1.01</td>\n",
       "      <td>1</td>\n",
       "      <td>1</td>\n",
       "      <td>0</td>\n",
       "    </tr>\n",
       "    <tr>\n",
       "      <th>15</th>\n",
       "      <td>0.249</td>\n",
       "      <td>1.03</td>\n",
       "      <td>1</td>\n",
       "      <td>1</td>\n",
       "      <td>0</td>\n",
       "    </tr>\n",
       "    <tr>\n",
       "      <th>16</th>\n",
       "      <td>0.220</td>\n",
       "      <td>1.16</td>\n",
       "      <td>1</td>\n",
       "      <td>1</td>\n",
       "      <td>0</td>\n",
       "    </tr>\n",
       "    <tr>\n",
       "      <th>17</th>\n",
       "      <td>0.299</td>\n",
       "      <td>1.21</td>\n",
       "      <td>1</td>\n",
       "      <td>1</td>\n",
       "      <td>0</td>\n",
       "    </tr>\n",
       "    <tr>\n",
       "      <th>18</th>\n",
       "      <td>0.350</td>\n",
       "      <td>1.20</td>\n",
       "      <td>1</td>\n",
       "      <td>1</td>\n",
       "      <td>0</td>\n",
       "    </tr>\n",
       "    <tr>\n",
       "      <th>19</th>\n",
       "      <td>0.350</td>\n",
       "      <td>1.22</td>\n",
       "      <td>1</td>\n",
       "      <td>1</td>\n",
       "      <td>0</td>\n",
       "    </tr>\n",
       "    <tr>\n",
       "      <th>20</th>\n",
       "      <td>0.588</td>\n",
       "      <td>0.99</td>\n",
       "      <td>1</td>\n",
       "      <td>1</td>\n",
       "      <td>0</td>\n",
       "    </tr>\n",
       "    <tr>\n",
       "      <th>21</th>\n",
       "      <td>0.379</td>\n",
       "      <td>0.77</td>\n",
       "      <td>2</td>\n",
       "      <td>0</td>\n",
       "      <td>1</td>\n",
       "    </tr>\n",
       "    <tr>\n",
       "      <th>22</th>\n",
       "      <td>0.149</td>\n",
       "      <td>1.05</td>\n",
       "      <td>2</td>\n",
       "      <td>0</td>\n",
       "      <td>1</td>\n",
       "    </tr>\n",
       "    <tr>\n",
       "      <th>23</th>\n",
       "      <td>0.316</td>\n",
       "      <td>1.06</td>\n",
       "      <td>2</td>\n",
       "      <td>0</td>\n",
       "      <td>1</td>\n",
       "    </tr>\n",
       "    <tr>\n",
       "      <th>24</th>\n",
       "      <td>0.390</td>\n",
       "      <td>1.02</td>\n",
       "      <td>2</td>\n",
       "      <td>0</td>\n",
       "      <td>1</td>\n",
       "    </tr>\n",
       "    <tr>\n",
       "      <th>25</th>\n",
       "      <td>0.429</td>\n",
       "      <td>0.99</td>\n",
       "      <td>2</td>\n",
       "      <td>0</td>\n",
       "      <td>1</td>\n",
       "    </tr>\n",
       "    <tr>\n",
       "      <th>26</th>\n",
       "      <td>0.477</td>\n",
       "      <td>0.97</td>\n",
       "      <td>2</td>\n",
       "      <td>0</td>\n",
       "      <td>1</td>\n",
       "    </tr>\n",
       "    <tr>\n",
       "      <th>27</th>\n",
       "      <td>0.439</td>\n",
       "      <td>1.12</td>\n",
       "      <td>2</td>\n",
       "      <td>0</td>\n",
       "      <td>1</td>\n",
       "    </tr>\n",
       "    <tr>\n",
       "      <th>28</th>\n",
       "      <td>0.446</td>\n",
       "      <td>1.23</td>\n",
       "      <td>2</td>\n",
       "      <td>0</td>\n",
       "      <td>1</td>\n",
       "    </tr>\n",
       "    <tr>\n",
       "      <th>29</th>\n",
       "      <td>0.538</td>\n",
       "      <td>1.19</td>\n",
       "      <td>2</td>\n",
       "      <td>0</td>\n",
       "      <td>1</td>\n",
       "    </tr>\n",
       "    <tr>\n",
       "      <th>30</th>\n",
       "      <td>0.625</td>\n",
       "      <td>1.22</td>\n",
       "      <td>2</td>\n",
       "      <td>0</td>\n",
       "      <td>1</td>\n",
       "    </tr>\n",
       "    <tr>\n",
       "      <th>31</th>\n",
       "      <td>0.974</td>\n",
       "      <td>1.40</td>\n",
       "      <td>2</td>\n",
       "      <td>0</td>\n",
       "      <td>1</td>\n",
       "    </tr>\n",
       "  </tbody>\n",
       "</table>\n",
       "</div>"
      ],
      "text/plain": [
       "    Infarc  Area  Group  X2  X3\n",
       "0    0.119  0.34      3   0   0\n",
       "1    0.190  0.64      3   0   0\n",
       "2    0.395  0.76      3   0   0\n",
       "3    0.469  0.83      3   0   0\n",
       "4    0.130  0.73      3   0   0\n",
       "5    0.311  0.82      3   0   0\n",
       "6    0.418  0.95      3   0   0\n",
       "7    0.480  1.06      3   0   0\n",
       "8    0.687  1.20      3   0   0\n",
       "9    0.847  1.47      3   0   0\n",
       "10   0.062  0.44      1   1   0\n",
       "11   0.122  0.77      1   1   0\n",
       "12   0.033  0.90      1   1   0\n",
       "13   0.102  1.07      1   1   0\n",
       "14   0.206  1.01      1   1   0\n",
       "15   0.249  1.03      1   1   0\n",
       "16   0.220  1.16      1   1   0\n",
       "17   0.299  1.21      1   1   0\n",
       "18   0.350  1.20      1   1   0\n",
       "19   0.350  1.22      1   1   0\n",
       "20   0.588  0.99      1   1   0\n",
       "21   0.379  0.77      2   0   1\n",
       "22   0.149  1.05      2   0   1\n",
       "23   0.316  1.06      2   0   1\n",
       "24   0.390  1.02      2   0   1\n",
       "25   0.429  0.99      2   0   1\n",
       "26   0.477  0.97      2   0   1\n",
       "27   0.439  1.12      2   0   1\n",
       "28   0.446  1.23      2   0   1\n",
       "29   0.538  1.19      2   0   1\n",
       "30   0.625  1.22      2   0   1\n",
       "31   0.974  1.40      2   0   1"
      ]
     },
     "execution_count": 45,
     "metadata": {},
     "output_type": "execute_result"
    }
   ],
   "source": [
    "data = [\n",
    "    {\"Infarc\": 0.119, \"Area\": 0.34, \"Group\": 3, \"X2\": 0, \"X3\": 0},\n",
    "    {\"Infarc\": 0.19, \"Area\": 0.64, \"Group\": 3, \"X2\": 0, \"X3\": 0},\n",
    "    {\"Infarc\": 0.395, \"Area\": 0.76, \"Group\": 3, \"X2\": 0, \"X3\": 0},\n",
    "    {\"Infarc\": 0.469, \"Area\": 0.83, \"Group\": 3, \"X2\": 0, \"X3\": 0},\n",
    "    {\"Infarc\": 0.13, \"Area\": 0.73, \"Group\": 3, \"X2\": 0, \"X3\": 0},\n",
    "    {\"Infarc\": 0.311, \"Area\": 0.82, \"Group\": 3, \"X2\": 0, \"X3\": 0},\n",
    "    {\"Infarc\": 0.418, \"Area\": 0.95, \"Group\": 3, \"X2\": 0, \"X3\": 0},\n",
    "    {\"Infarc\": 0.48, \"Area\": 1.06, \"Group\": 3, \"X2\": 0, \"X3\": 0},\n",
    "    {\"Infarc\": 0.687, \"Area\": 1.2, \"Group\": 3, \"X2\": 0, \"X3\": 0},\n",
    "    {\"Infarc\": 0.847, \"Area\": 1.47, \"Group\": 3, \"X2\": 0, \"X3\": 0},\n",
    "    {\"Infarc\": 0.062, \"Area\": 0.44, \"Group\": 1, \"X2\": 1, \"X3\": 0},\n",
    "    {\"Infarc\": 0.122, \"Area\": 0.77, \"Group\": 1, \"X2\": 1, \"X3\": 0},\n",
    "    {\"Infarc\": 0.033, \"Area\": 0.9, \"Group\": 1, \"X2\": 1, \"X3\": 0},\n",
    "    {\"Infarc\": 0.102, \"Area\": 1.07, \"Group\": 1, \"X2\": 1, \"X3\": 0},\n",
    "    {\"Infarc\": 0.206, \"Area\": 1.01, \"Group\": 1, \"X2\": 1, \"X3\": 0},\n",
    "    {\"Infarc\": 0.249, \"Area\": 1.03, \"Group\": 1, \"X2\": 1, \"X3\": 0},\n",
    "    {\"Infarc\": 0.22, \"Area\": 1.16, \"Group\": 1, \"X2\": 1, \"X3\": 0},\n",
    "    {\"Infarc\": 0.299, \"Area\": 1.21, \"Group\": 1, \"X2\": 1, \"X3\": 0},\n",
    "    {\"Infarc\": 0.35, \"Area\": 1.2, \"Group\": 1, \"X2\": 1, \"X3\": 0},\n",
    "    {\"Infarc\": 0.35, \"Area\": 1.22, \"Group\": 1, \"X2\": 1, \"X3\": 0},\n",
    "    {\"Infarc\": 0.588, \"Area\": 0.99, \"Group\": 1, \"X2\": 1, \"X3\": 0},\n",
    "    {\"Infarc\": 0.379, \"Area\": 0.77, \"Group\": 2, \"X2\": 0, \"X3\": 1},\n",
    "    {\"Infarc\": 0.149, \"Area\": 1.05, \"Group\": 2, \"X2\": 0, \"X3\": 1},\n",
    "    {\"Infarc\": 0.316, \"Area\": 1.06, \"Group\": 2, \"X2\": 0, \"X3\": 1},\n",
    "    {\"Infarc\": 0.39, \"Area\": 1.02, \"Group\": 2, \"X2\": 0, \"X3\": 1},\n",
    "    {\"Infarc\": 0.429, \"Area\": 0.99, \"Group\": 2, \"X2\": 0, \"X3\": 1},\n",
    "    {\"Infarc\": 0.477, \"Area\": 0.97, \"Group\": 2, \"X2\": 0, \"X3\": 1},\n",
    "    {\"Infarc\": 0.439, \"Area\": 1.12, \"Group\": 2, \"X2\": 0, \"X3\": 1},\n",
    "    {\"Infarc\": 0.446, \"Area\": 1.23, \"Group\": 2, \"X2\": 0, \"X3\": 1},\n",
    "    {\"Infarc\": 0.538, \"Area\": 1.19, \"Group\": 2, \"X2\": 0, \"X3\": 1},\n",
    "    {\"Infarc\": 0.625, \"Area\": 1.22, \"Group\": 2, \"X2\": 0, \"X3\": 1},\n",
    "    {\"Infarc\": 0.974, \"Area\": 1.4, \"Group\": 2, \"X2\": 0, \"X3\": 1}\n",
    "]\n",
    "\n",
    "df=pd.DataFrame(data)\n",
    "df.to_csv('data1.csv',index=False)\n",
    "df"
   ]
  },
  {
   "cell_type": "code",
   "execution_count": 46,
   "id": "a862a698",
   "metadata": {},
   "outputs": [
    {
     "name": "stdout",
     "output_type": "stream",
     "text": [
      "0.01764755185117825\n",
      "-0.13144828366923458+0.5748534410232871x+-0.20876879371768903x^2\n",
      "0     0.064002\n",
      "1     0.236458\n",
      "2     0.305440\n",
      "3     0.345680\n",
      "4     0.288195\n",
      "5     0.339932\n",
      "6     0.414662\n",
      "7     0.477896\n",
      "8     0.558376\n",
      "9     0.713586\n",
      "10   -0.087282\n",
      "11    0.102420\n",
      "12    0.177151\n",
      "13    0.274876\n",
      "14    0.240385\n",
      "15    0.251882\n",
      "16    0.326613\n",
      "17    0.355356\n",
      "18    0.349607\n",
      "19    0.361104\n",
      "20    0.228888\n",
      "21    0.311186\n",
      "22    0.472145\n",
      "23    0.477893\n",
      "24    0.454899\n",
      "25    0.437653\n",
      "26    0.426156\n",
      "27    0.512384\n",
      "28    0.575618\n",
      "29    0.552624\n",
      "30    0.569870\n",
      "31    0.673343\n",
      "dtype: float64\n",
      "0.13284408850670867\n",
      "15\n",
      "31.82\n",
      "11\n",
      "11\n",
      "0\n",
      "11.789000000000001\n",
      "12.822560000000001\n",
      "2.581\n",
      "5.162\n",
      "11.0\n",
      "12.02\n"
     ]
    }
   ],
   "source": [
    "\n",
    "\n",
    "\n",
    "X1 = df['Area']\n",
    "X2 = df['X2']\n",
    "y = df['Infarc']\n",
    "X3 = df['X3']\n",
    "\n",
    "mat1 = np.array([[len(X1),np.sum(X1),np.sum(X2),np.sum(X3)],[np.sum(X1),np.sum(X1**2),np.sum(X1*X2),np.sum(X1*X3)],[np.sum(X2),np.sum(X1*X2),np.sum(X2**2),np.sum(X3*X2)],[np.sum(X3),np.sum(X1*X3),np.sum(X2*X3),np.sum(X**2)]])\n",
    "mat2 = np.array([[np.sum(y),np.sum(X1*y),np.sum(X2*y),np.sum(X3*y)]])\n",
    "coeffs = np.dot(np.linalg.inv(mat1),mat2.T)\n",
    "b0,b1,b2,b3 = coeffs[0,0],coeffs[1,0],coeffs[2,0],coeffs[3,0]\n",
    "y_prd = b0 + b1*X1+ b2*(X2) +b3*X3\n",
    "squared_err = (y-y_prd)**2\n",
    "rmse_mat = np.sqrt(np.mean(squared_err))\n",
    "print(np.mean(squared_err))\n",
    "print(f\"{b0}+{b1}x+{b2}x^2\")\n",
    "print(y_prd)\n",
    "print(rmse_mat)\n",
    "print(len(X))\n",
    "print(np.sum(X1))\n",
    "print(np.sum(X2))\n",
    "print(np.sum(X3))\n",
    "print(np.sum(X2*X3))\n",
    "print(np.sum(y))\n",
    "print(np.sum(X1*y))\n",
    "print(np.sum((X2*y)))\n",
    "print(np.sum(X3*y))\n",
    "print(np.sum(X1*X2))\n",
    "print(np.sum(X1*X3))"
   ]
  },
  {
   "cell_type": "code",
   "execution_count": 53,
   "id": "7f12832f",
   "metadata": {},
   "outputs": [
    {
     "data": {
      "image/png": "[encoded data removed]",
      "text/plain": [
       "<Figure size 640x480 with 1 Axes>"
      ]
     },
     "metadata": {},
     "output_type": "display_data"
    }
   ],
   "source": [
    "\n",
    "plt.scatter(X1,y,color='blue',label='Data')\n",
    "plt.plot(X1,y_prd,color='red',label='rr')\n",
    "plt.show()"
   ]
  },
  {
   "cell_type": "code",
   "execution_count": 54,
   "id": "0b582a18",
   "metadata": {},
   "outputs": [
    {
     "data": {
      "image/png": "[encoded data removed]",
      "text/plain": [
       "<Figure size 640x480 with 1 Axes>"
      ]
     },
     "metadata": {},
     "output_type": "display_data"
    }
   ],
   "source": [
    "\n",
    "plt.scatter(X2,y,color='blue',label='Data')\n",
    "plt.plot(X2,y_prd,color='red',label='rr')\n",
    "plt.show()"
   ]
  },
  {
   "cell_type": "code",
   "execution_count": 55,
   "id": "cb61fd6d",
   "metadata": {},
   "outputs": [
    {
     "data": {
      "image/png": "[encoded data removed]",
      "text/plain": [
       "<Figure size 640x480 with 1 Axes>"
      ]
     },
     "metadata": {},
     "output_type": "display_data"
    }
   ],
   "source": [
    "\n",
    "plt.scatter(X3,y,color='blue',label='Data')\n",
    "plt.plot(X3,y_prd,color='red',label='rr')\n",
    "plt.show()"
   ]
  },
  {
   "cell_type": "code",
   "execution_count": null,
   "id": "52215a2c",
   "metadata": {},
   "outputs": [],
   "source": []
  }
 ],
 "metadata": {
  "kernelspec": {
   "display_name": "Python 3 (ipykernel)",
   "language": "python",
   "name": "python3"
  },
  "language_info": {
   "codemirror_mode": {
    "name": "ipython",
    "version": 3
   },
   "file_extension": ".py",
   "mimetype": "text/x-python",
   "name": "python",
   "nbconvert_exporter": "python",
   "pygments_lexer": "ipython3",
   "version": "3.12.3"
  }
 },
 "nbformat": 4,
 "nbformat_minor": 5
}
