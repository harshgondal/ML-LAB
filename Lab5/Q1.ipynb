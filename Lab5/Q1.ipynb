{
 "cells": [
  {
   "cell_type": "code",
   "execution_count": 2,
   "id": "53d7bf74",
   "metadata": {},
   "outputs": [],
   "source": [
    "import numpy as np\n",
    "import pandas as pd\n",
    "import matplotlib.pyplot as plt"
   ]
  },
  {
   "cell_type": "code",
   "execution_count": 6,
   "id": "16de0128",
   "metadata": {},
   "outputs": [
    {
     "data": {
      "text/html": [
       "<div>\n",
       "<style scoped>\n",
       "    .dataframe tbody tr th:only-of-type {\n",
       "        vertical-align: middle;\n",
       "    }\n",
       "\n",
       "    .dataframe tbody tr th {\n",
       "        vertical-align: top;\n",
       "    }\n",
       "\n",
       "    .dataframe thead th {\n",
       "        text-align: right;\n",
       "    }\n",
       "</style>\n",
       "<table border=\"1\" class=\"dataframe\">\n",
       "  <thead>\n",
       "    <tr style=\"text-align: right;\">\n",
       "      <th></th>\n",
       "      <th>mother_height</th>\n",
       "      <th>daughter_height</th>\n",
       "    </tr>\n",
       "  </thead>\n",
       "  <tbody>\n",
       "    <tr>\n",
       "      <th>0</th>\n",
       "      <td>58</td>\n",
       "      <td>60</td>\n",
       "    </tr>\n",
       "    <tr>\n",
       "      <th>1</th>\n",
       "      <td>62</td>\n",
       "      <td>60</td>\n",
       "    </tr>\n",
       "    <tr>\n",
       "      <th>2</th>\n",
       "      <td>60</td>\n",
       "      <td>58</td>\n",
       "    </tr>\n",
       "    <tr>\n",
       "      <th>3</th>\n",
       "      <td>64</td>\n",
       "      <td>60</td>\n",
       "    </tr>\n",
       "    <tr>\n",
       "      <th>4</th>\n",
       "      <td>67</td>\n",
       "      <td>70</td>\n",
       "    </tr>\n",
       "    <tr>\n",
       "      <th>5</th>\n",
       "      <td>70</td>\n",
       "      <td>72</td>\n",
       "    </tr>\n",
       "  </tbody>\n",
       "</table>\n",
       "</div>"
      ],
      "text/plain": [
       "   mother_height  daughter_height\n",
       "0             58               60\n",
       "1             62               60\n",
       "2             60               58\n",
       "3             64               60\n",
       "4             67               70\n",
       "5             70               72"
      ]
     },
     "execution_count": 6,
     "metadata": {},
     "output_type": "execute_result"
    }
   ],
   "source": [
    "data = [[58, 60], [62, 60], [60, 58], [64, 60], [67, 70], [70, 72]]\n",
    "df=pd.DataFrame(data, columns=[\"mother_height\", \"daughter_height\"])\n",
    "df.to_csv(\"height_data.csv\", index=False)\n",
    "df"
   ]
  },
  {
   "cell_type": "code",
   "execution_count": 25,
   "id": "eca83a78",
   "metadata": {},
   "outputs": [
    {
     "data": {
      "text/plain": [
       "array([1., 1., 1., 1., 1., 1.])"
      ]
     },
     "execution_count": 25,
     "metadata": {},
     "output_type": "execute_result"
    }
   ],
   "source": [
    "1/(1 + np.exp(-1*(df[\"daughter_height\"].values)))"
   ]
  },
  {
   "cell_type": "code",
   "execution_count": 143,
   "id": "5bc8ec0f",
   "metadata": {},
   "outputs": [],
   "source": [
    "n = len(df)\n",
    "b0 = 0\n",
    "b1 = 0\n",
    "l = 0.0001\n",
    "E = 0\n",
    "iteration_error = []\n",
    "epochs = 4"
   ]
  },
  {
   "cell_type": "code",
   "execution_count": 144,
   "id": "895527f7",
   "metadata": {},
   "outputs": [
    {
     "name": "stdout",
     "output_type": "stream",
     "text": [
      "b0: 0.016406249586034958\n",
      "b1: 1.0149205396744159\n",
      "Error: -1.8418434461754032\n"
     ]
    }
   ],
   "source": [
    "for i in range(epochs):\n",
    "    for j in range(n):\n",
    "        x=df[\"mother_height\"][j]\n",
    "        y=df[\"daughter_height\"][j]\n",
    "        predicted = b0 + b1*x\n",
    "        E = predicted-y\n",
    "        iteration_error.append(E)\n",
    "        b0 = b0-l*E*1\n",
    "        b1 = b1-l*E*x\n",
    "        \n",
    "print(f\"b0: {b0}\")\n",
    "print(f\"b1: {b1}\")\n",
    "print(f\"Error: {E}\")"
   ]
  },
  {
   "cell_type": "code",
   "execution_count": 145,
   "id": "e0a8507a",
   "metadata": {},
   "outputs": [
    {
     "data": {
      "text/html": [
       "<div>\n",
       "<style scoped>\n",
       "    .dataframe tbody tr th:only-of-type {\n",
       "        vertical-align: middle;\n",
       "    }\n",
       "\n",
       "    .dataframe tbody tr th {\n",
       "        vertical-align: top;\n",
       "    }\n",
       "\n",
       "    .dataframe thead th {\n",
       "        text-align: right;\n",
       "    }\n",
       "</style>\n",
       "<table border=\"1\" class=\"dataframe\">\n",
       "  <thead>\n",
       "    <tr style=\"text-align: right;\">\n",
       "      <th></th>\n",
       "      <th>X</th>\n",
       "      <th>y</th>\n",
       "      <th>predicted_y</th>\n",
       "    </tr>\n",
       "  </thead>\n",
       "  <tbody>\n",
       "    <tr>\n",
       "      <th>0</th>\n",
       "      <td>58</td>\n",
       "      <td>60</td>\n",
       "      <td>58.881798</td>\n",
       "    </tr>\n",
       "    <tr>\n",
       "      <th>1</th>\n",
       "      <td>62</td>\n",
       "      <td>60</td>\n",
       "      <td>62.941480</td>\n",
       "    </tr>\n",
       "    <tr>\n",
       "      <th>2</th>\n",
       "      <td>60</td>\n",
       "      <td>58</td>\n",
       "      <td>60.911639</td>\n",
       "    </tr>\n",
       "    <tr>\n",
       "      <th>3</th>\n",
       "      <td>64</td>\n",
       "      <td>60</td>\n",
       "      <td>64.971321</td>\n",
       "    </tr>\n",
       "    <tr>\n",
       "      <th>4</th>\n",
       "      <td>67</td>\n",
       "      <td>70</td>\n",
       "      <td>68.016082</td>\n",
       "    </tr>\n",
       "    <tr>\n",
       "      <th>5</th>\n",
       "      <td>70</td>\n",
       "      <td>72</td>\n",
       "      <td>71.060844</td>\n",
       "    </tr>\n",
       "  </tbody>\n",
       "</table>\n",
       "</div>"
      ],
      "text/plain": [
       "    X   y  predicted_y\n",
       "0  58  60    58.881798\n",
       "1  62  60    62.941480\n",
       "2  60  58    60.911639\n",
       "3  64  60    64.971321\n",
       "4  67  70    68.016082\n",
       "5  70  72    71.060844"
      ]
     },
     "execution_count": 145,
     "metadata": {},
     "output_type": "execute_result"
    }
   ],
   "source": [
    "y_pred = np.array(b0 + b1*(df[\"mother_height\"].values))\n",
    "predicted_df = pd.DataFrame({'X': df[\"mother_height\"], 'y': df[\"daughter_height\"], 'predicted_y': y_pred})\n",
    "predicted_df"
   ]
  },
  {
   "cell_type": "code",
   "execution_count": 146,
   "id": "4ab72ae9",
   "metadata": {},
   "outputs": [
    {
     "name": "stdout",
     "output_type": "stream",
     "text": [
      "MSE: 7.668550303986991\n",
      "RMSE: 2.8258418347410132\n"
     ]
    }
   ],
   "source": [
    "error = np.array(y_pred-df[\"daughter_height\"])\n",
    "MSE = np.sum(error)**2/n\n",
    "RMSE = (np.sum(error**2)/n)**0.5\n",
    "print(f\"MSE: {MSE}\")\n",
    "print(f\"RMSE: {RMSE}\")"
   ]
  },
  {
   "cell_type": "markdown",
   "id": "28c5a731",
   "metadata": {},
   "source": [
    "## Error through iterations:"
   ]
  },
  {
   "cell_type": "code",
   "execution_count": 157,
   "id": "992ca6be",
   "metadata": {},
   "outputs": [
    {
     "data": {
      "image/png": "[encoded data removed]",
      "text/plain": [
       "<Figure size 640x480 with 1 Axes>"
      ]
     },
     "metadata": {},
     "output_type": "display_data"
    }
   ],
   "source": [
    "x_axis = np.arange(24)\n",
    "y_axis = abs(np.array(iteration_error))\n",
    "plt.plot(x_axis, y_axis)\n",
    "plt.xlabel(\"Iterations\")\n",
    "plt.ylabel(\"Absolute Error\")\n",
    "plt.show()"
   ]
  },
  {
   "cell_type": "code",
   "execution_count": 160,
   "id": "3b61e08d",
   "metadata": {},
   "outputs": [
    {
     "data": {
      "image/png": "[encoded data removed]",
      "text/plain": [
       "<Figure size 640x480 with 1 Axes>"
      ]
     },
     "metadata": {},
     "output_type": "display_data"
    }
   ],
   "source": [
    "plt.scatter(df[\"mother_height\"], df[\"daughter_height\"], color=\"blue\")\n",
    "plt.plot(df[\"mother_height\"], y_pred, color=\"red\")\n",
    "plt.xlabel(\"Mother Height\")\n",
    "plt.ylabel(\"Daughter Height\")\n",
    "plt.show()"
   ]
  },
  {
   "cell_type": "markdown",
   "id": "fc5fbad0",
   "metadata": {},
   "source": [
    "## Prediction"
   ]
  },
  {
   "cell_type": "code",
   "execution_count": 169,
   "id": "94b38416",
   "metadata": {},
   "outputs": [
    {
     "data": {
      "text/html": [
       "<div>\n",
       "<style scoped>\n",
       "    .dataframe tbody tr th:only-of-type {\n",
       "        vertical-align: middle;\n",
       "    }\n",
       "\n",
       "    .dataframe tbody tr th {\n",
       "        vertical-align: top;\n",
       "    }\n",
       "\n",
       "    .dataframe thead th {\n",
       "        text-align: right;\n",
       "    }\n",
       "</style>\n",
       "<table border=\"1\" class=\"dataframe\">\n",
       "  <thead>\n",
       "    <tr style=\"text-align: right;\">\n",
       "      <th></th>\n",
       "      <th>Mother</th>\n",
       "      <th>Daughter</th>\n",
       "    </tr>\n",
       "  </thead>\n",
       "  <tbody>\n",
       "    <tr>\n",
       "      <th>0</th>\n",
       "      <td>63</td>\n",
       "      <td>63.9564</td>\n",
       "    </tr>\n",
       "  </tbody>\n",
       "</table>\n",
       "</div>"
      ],
      "text/plain": [
       "   Mother  Daughter\n",
       "0      63   63.9564"
      ]
     },
     "execution_count": 169,
     "metadata": {},
     "output_type": "execute_result"
    }
   ],
   "source": [
    "mother_height=63\n",
    "daughter_height = b0 + b1*mother_height\n",
    "pred_h = pd.DataFrame({'Mother': mother_height, 'Daughter': daughter_height}, index=[0])\n",
    "pred_h"
   ]
  },
  {
   "cell_type": "code",
   "execution_count": null,
   "id": "7c50a580",
   "metadata": {},
   "outputs": [],
   "source": []
  }
 ],
 "metadata": {
  "kernelspec": {
   "display_name": "Python 3 (ipykernel)",
   "language": "python",
   "name": "python3"
  },
  "language_info": {
   "codemirror_mode": {
    "name": "ipython",
    "version": 3
   },
   "file_extension": ".py",
   "mimetype": "text/x-python",
   "name": "python",
   "nbconvert_exporter": "python",
   "pygments_lexer": "ipython3",
   "version": "3.12.3"
  }
 },
 "nbformat": 4,
 "nbformat_minor": 5
}
