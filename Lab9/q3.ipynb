{
 "cells": [
  {
   "cell_type": "markdown",
   "id": "5cee600d",
   "metadata": {},
   "source": [
    "# q3(C4.5)"
   ]
  },
  {
   "cell_type": "code",
   "execution_count": 2,
   "id": "6353ac2f",
   "metadata": {},
   "outputs": [
    {
     "name": "stdout",
     "output_type": "stream",
     "text": [
      "   Income Credit Loan Approved\n",
      "0     Low   Good           Yes\n",
      "1     Low    Bad            No\n",
      "2  Medium   Good           Yes\n",
      "3  Medium    Bad           Yes\n",
      "4    High   Good           Yes\n",
      "5    High    Bad            No\n"
     ]
    }
   ],
   "source": [
    "import numpy as np\n",
    "import matplotlib.pyplot as plt\n",
    "import pandas as pd\n",
    "import math\n",
    "data = {\n",
    "    'Income': ['Low', 'Low', 'Medium', 'Medium', 'High', 'High'],\n",
    "    'Credit': ['Good', 'Bad', 'Good', 'Bad', 'Good', 'Bad'],\n",
    "    'Loan Approved': ['Yes', 'No', 'Yes', 'Yes', 'Yes', 'No']\n",
    "}\n",
    "\n",
    "df = pd.DataFrame(data)\n",
    "print(df)\n"
   ]
  },
  {
   "cell_type": "code",
   "execution_count": 10,
   "id": "878d31c7",
   "metadata": {},
   "outputs": [
    {
     "name": "stdout",
     "output_type": "stream",
     "text": [
      "0.15876032857139014\n",
      "0.4591479170272448\n"
     ]
    },
    {
     "name": "stderr",
     "output_type": "stream",
     "text": [
      "/tmp/ipykernel_10888/2588909633.py:8: FutureWarning: Series.__getitem__ treating keys as positions is deprecated. In a future version, integer keys will always be treated as labels (consistent with DataFrame behavior). To access a value by position, use `ser.iloc[pos]`\n",
      "  p,n = x[0],x[1]\n",
      "/tmp/ipykernel_10888/2588909633.py:8: FutureWarning: Series.__getitem__ treating keys as positions is deprecated. In a future version, integer keys will always be treated as labels (consistent with DataFrame behavior). To access a value by position, use `ser.iloc[pos]`\n",
      "  p,n = x[0],x[1]\n",
      "/tmp/ipykernel_10888/2588909633.py:13: FutureWarning: Series.__getitem__ treating keys as positions is deprecated. In a future version, integer keys will always be treated as labels (consistent with DataFrame behavior). To access a value by position, use `ser.iloc[pos]`\n",
      "  p = x[0]\n",
      "/tmp/ipykernel_10888/2588909633.py:8: FutureWarning: Series.__getitem__ treating keys as positions is deprecated. In a future version, integer keys will always be treated as labels (consistent with DataFrame behavior). To access a value by position, use `ser.iloc[pos]`\n",
      "  p,n = x[0],x[1]\n",
      "/tmp/ipykernel_10888/2588909633.py:8: FutureWarning: Series.__getitem__ treating keys as positions is deprecated. In a future version, integer keys will always be treated as labels (consistent with DataFrame behavior). To access a value by position, use `ser.iloc[pos]`\n",
      "  p,n = x[0],x[1]\n",
      "/tmp/ipykernel_10888/2588909633.py:13: FutureWarning: Series.__getitem__ treating keys as positions is deprecated. In a future version, integer keys will always be treated as labels (consistent with DataFrame behavior). To access a value by position, use `ser.iloc[pos]`\n",
      "  p = x[0]\n",
      "/tmp/ipykernel_10888/2588909633.py:6: FutureWarning: Series.__getitem__ treating keys as positions is deprecated. In a future version, integer keys will always be treated as labels (consistent with DataFrame behavior). To access a value by position, use `ser.iloc[pos]`\n",
      "  n,p = x[0],x[1]\n",
      "/tmp/ipykernel_10888/2588909633.py:8: FutureWarning: Series.__getitem__ treating keys as positions is deprecated. In a future version, integer keys will always be treated as labels (consistent with DataFrame behavior). To access a value by position, use `ser.iloc[pos]`\n",
      "  p,n = x[0],x[1]\n"
     ]
    }
   ],
   "source": [
    "\n",
    "def entropy(data):\n",
    "    p,n = 0,0\n",
    "    x = data.value_counts(\"Loan Approved\")\n",
    "    if len(x) > 1:\n",
    "        if data.iat[0,-1] == \"No\":\n",
    "            n,p = x[0],x[1]\n",
    "        else:\n",
    "            p,n = x[0],x[1]\n",
    "    else:\n",
    "        if data.iat[0,-1] == \"No\":\n",
    "            n = x[0]\n",
    "        else:\n",
    "            p = x[0]\n",
    "    p_ratio = p/(p+n)\n",
    "    n_ratio = 1 - p_ratio\n",
    "    entropy_p = -p_ratio*math.log2(p_ratio) if p_ratio != 0 else 0\n",
    "    entropy_n = - n_ratio*math.log2(n_ratio) if n_ratio !=0 else 0\n",
    "    return entropy_p + entropy_n\n",
    "\n",
    "def gain_ratio(data,feature):\n",
    "    unique_values = data[feature].unique()\n",
    "    feature_weights = [len(data[data[feature] == val]) for val in unique_values]\n",
    "    entropies = [entropy(data[data[feature] == val]) for val in unique_values]\n",
    "    info_gain_feature = sum(feature_weights[i] / sum(feature_weights) * entropies[i] for i in range(len(unique_values)))\n",
    "    info_gain = entropy(data) - info_gain_feature\n",
    "    split_info = sum(-1*feature_weights[i] / sum(feature_weights) * math.log2(feature_weights[i] / sum(feature_weights)) for i in range(len(unique_values)))\n",
    "    gain_ratio = info_gain/split_info\n",
    "    return gain_ratio\n",
    "\n",
    "\n",
    "\n",
    "entropy(df)\n",
    "print(gain_ratio(df,\"Income\"))\n",
    "print(gain_ratio(df,\"Credit\"))\n"
   ]
  },
  {
   "cell_type": "code",
   "execution_count": 12,
   "id": "804c84bc",
   "metadata": {},
   "outputs": [
    {
     "name": "stderr",
     "output_type": "stream",
     "text": [
      "/tmp/ipykernel_10888/2588909633.py:8: FutureWarning: Series.__getitem__ treating keys as positions is deprecated. In a future version, integer keys will always be treated as labels (consistent with DataFrame behavior). To access a value by position, use `ser.iloc[pos]`\n",
      "  p,n = x[0],x[1]\n",
      "/tmp/ipykernel_10888/2588909633.py:13: FutureWarning: Series.__getitem__ treating keys as positions is deprecated. In a future version, integer keys will always be treated as labels (consistent with DataFrame behavior). To access a value by position, use `ser.iloc[pos]`\n",
      "  p = x[0]\n",
      "/tmp/ipykernel_10888/2588909633.py:8: FutureWarning: Series.__getitem__ treating keys as positions is deprecated. In a future version, integer keys will always be treated as labels (consistent with DataFrame behavior). To access a value by position, use `ser.iloc[pos]`\n",
      "  p,n = x[0],x[1]\n",
      "/tmp/ipykernel_10888/2588909633.py:8: FutureWarning: Series.__getitem__ treating keys as positions is deprecated. In a future version, integer keys will always be treated as labels (consistent with DataFrame behavior). To access a value by position, use `ser.iloc[pos]`\n",
      "  p,n = x[0],x[1]\n",
      "/tmp/ipykernel_10888/2588909633.py:13: FutureWarning: Series.__getitem__ treating keys as positions is deprecated. In a future version, integer keys will always be treated as labels (consistent with DataFrame behavior). To access a value by position, use `ser.iloc[pos]`\n",
      "  p = x[0]\n",
      "/tmp/ipykernel_10888/2588909633.py:6: FutureWarning: Series.__getitem__ treating keys as positions is deprecated. In a future version, integer keys will always be treated as labels (consistent with DataFrame behavior). To access a value by position, use `ser.iloc[pos]`\n",
      "  n,p = x[0],x[1]\n",
      "/tmp/ipykernel_10888/2588909633.py:8: FutureWarning: Series.__getitem__ treating keys as positions is deprecated. In a future version, integer keys will always be treated as labels (consistent with DataFrame behavior). To access a value by position, use `ser.iloc[pos]`\n",
      "  p,n = x[0],x[1]\n",
      "/tmp/ipykernel_10888/2588909633.py:11: FutureWarning: Series.__getitem__ treating keys as positions is deprecated. In a future version, integer keys will always be treated as labels (consistent with DataFrame behavior). To access a value by position, use `ser.iloc[pos]`\n",
      "  n = x[0]\n",
      "/tmp/ipykernel_10888/2588909633.py:13: FutureWarning: Series.__getitem__ treating keys as positions is deprecated. In a future version, integer keys will always be treated as labels (consistent with DataFrame behavior). To access a value by position, use `ser.iloc[pos]`\n",
      "  p = x[0]\n",
      "/tmp/ipykernel_10888/2588909633.py:11: FutureWarning: Series.__getitem__ treating keys as positions is deprecated. In a future version, integer keys will always be treated as labels (consistent with DataFrame behavior). To access a value by position, use `ser.iloc[pos]`\n",
      "  n = x[0]\n",
      "/tmp/ipykernel_10888/2588909633.py:6: FutureWarning: Series.__getitem__ treating keys as positions is deprecated. In a future version, integer keys will always be treated as labels (consistent with DataFrame behavior). To access a value by position, use `ser.iloc[pos]`\n",
      "  n,p = x[0],x[1]\n"
     ]
    }
   ],
   "source": [
    "import pandas as pd\n",
    "import numpy as np\n",
    "import matplotlib.pyplot as plt\n",
    "import math\n",
    "\n",
    "class Node:\n",
    "    def __init__(self, data, parent_feature=None, parent_feature_value=None):\n",
    "        self.data = data  \n",
    "        self.parent_feature = parent_feature  \n",
    "        self.parent_feature_value = parent_feature_value  \n",
    "        self.children = {} \n",
    "\n",
    "def c45_decision_tree(data, features, target, parent_feature=None, parent_feature_value=None):\n",
    "    node = Node(data, parent_feature, parent_feature_value)    \n",
    "    if len(data['Loan Approved'].unique()) == 1:\n",
    "        return data['Loan Approved'].values[0]    \n",
    "    if len(features) == 0:\n",
    "        return data['Loan Approved'].mode().values[0]    \n",
    "    gain_ratios = {feature: gain_ratio(data, feature) for feature in features}\n",
    "    best_feature = max(gain_ratios, key=gain_ratios.get)    \n",
    "    for value in data[best_feature].unique():\n",
    "        child_data = data[data[best_feature] == value].drop([best_feature], axis=1)\n",
    "        node.children[value] = c45_decision_tree(child_data, features.drop(best_feature), target, best_feature, value)\n",
    "    return node\n",
    "\n",
    "features = df.columns[:-1]\n",
    "target = 'Loan Approved'\n",
    "decision_tree = c45_decision_tree(df, features, target)\n",
    "\n"
   ]
  },
  {
   "cell_type": "code",
   "execution_count": 14,
   "id": "e5c0d2d2",
   "metadata": {},
   "outputs": [
    {
     "name": "stdout",
     "output_type": "stream",
     "text": [
      "Value: Good\n",
      "  Approved?: Yes\n",
      "Value: Bad\n",
      "  Feature: Credit\n",
      "  Parent Feature Value: Bad\n",
      "  Value: Low\n",
      "    Approved?: No\n",
      "  Value: Medium\n",
      "    Approved?: Yes\n",
      "  Value: High\n",
      "    Approved?: No\n"
     ]
    }
   ],
   "source": [
    "def print_c45_decision_tree(node, indent=\"\"):\n",
    "    if isinstance(node, Node):\n",
    "        if node.parent_feature is not None:\n",
    "            print(indent + \"Feature: \" + node.parent_feature)\n",
    "            print(indent + \"Parent Feature Value: \" + str(node.parent_feature_value))\n",
    "        \n",
    "        if len(node.children) == 0:\n",
    "            print(indent + \"Loan Approved: \" + str(node.data['Loan Approved'].values[0]))\n",
    "        else:\n",
    "            for value, child_node in node.children.items():\n",
    "                print(indent + \"Value: \" + str(value))\n",
    "                print_c45_decision_tree(child_node, indent + \"  \")\n",
    "    else:\n",
    "        print(indent + \"Approved?: \" + str(node))\n",
    "\n",
    "print_c45_decision_tree(decision_tree)"
   ]
  },
  {
   "cell_type": "markdown",
   "id": "b3eb9dca",
   "metadata": {},
   "source": [
    "# q3(CART)"
   ]
  },
  {
   "cell_type": "code",
   "execution_count": 15,
   "id": "829edd76",
   "metadata": {},
   "outputs": [
    {
     "name": "stdout",
     "output_type": "stream",
     "text": [
      "   Income Credit Loan Approved\n",
      "0     Low   Good           Yes\n",
      "1     Low    Bad            No\n",
      "2  Medium   Good           Yes\n",
      "3  Medium    Bad           Yes\n",
      "4    High   Good           Yes\n",
      "5    High    Bad            No\n",
      "0.9182958340544896\n",
      "0.3333333333333333\n",
      "0.22222222222222215\n"
     ]
    },
    {
     "name": "stderr",
     "output_type": "stream",
     "text": [
      "/tmp/ipykernel_10888/2588909633.py:8: FutureWarning: Series.__getitem__ treating keys as positions is deprecated. In a future version, integer keys will always be treated as labels (consistent with DataFrame behavior). To access a value by position, use `ser.iloc[pos]`\n",
      "  p,n = x[0],x[1]\n",
      "/tmp/ipykernel_10888/2928221754.py:15: FutureWarning: Series.__getitem__ treating keys as positions is deprecated. In a future version, integer keys will always be treated as labels (consistent with DataFrame behavior). To access a value by position, use `ser.iloc[pos]`\n",
      "  p,n = x[0],x[1]\n",
      "/tmp/ipykernel_10888/2928221754.py:20: FutureWarning: Series.__getitem__ treating keys as positions is deprecated. In a future version, integer keys will always be treated as labels (consistent with DataFrame behavior). To access a value by position, use `ser.iloc[pos]`\n",
      "  p = x[0]\n",
      "/tmp/ipykernel_10888/2928221754.py:15: FutureWarning: Series.__getitem__ treating keys as positions is deprecated. In a future version, integer keys will always be treated as labels (consistent with DataFrame behavior). To access a value by position, use `ser.iloc[pos]`\n",
      "  p,n = x[0],x[1]\n",
      "/tmp/ipykernel_10888/2928221754.py:20: FutureWarning: Series.__getitem__ treating keys as positions is deprecated. In a future version, integer keys will always be treated as labels (consistent with DataFrame behavior). To access a value by position, use `ser.iloc[pos]`\n",
      "  p = x[0]\n",
      "/tmp/ipykernel_10888/2928221754.py:13: FutureWarning: Series.__getitem__ treating keys as positions is deprecated. In a future version, integer keys will always be treated as labels (consistent with DataFrame behavior). To access a value by position, use `ser.iloc[pos]`\n",
      "  n,p = x[0],x[1]\n"
     ]
    }
   ],
   "source": [
    "import pandas as pd\n",
    "import numpy as np\n",
    "import matplotlib.pyplot as plt\n",
    "import math \n",
    "\n",
    "print(df)\n",
    "\n",
    "def gini(data):\n",
    "    p,n = 0,0\n",
    "    x = data.value_counts(\"Loan Approved\")\n",
    "    if len(x) > 1:\n",
    "        if data.iat[0,-1] == \"No\":\n",
    "            n,p = x[0],x[1]\n",
    "        else:\n",
    "            p,n = x[0],x[1]\n",
    "    else:\n",
    "        if data.iat[0,-1] == \"No\":\n",
    "            n = x[0]\n",
    "        else:\n",
    "            p = x[0]\n",
    "    p_ratio = p/(p+n)\n",
    "    n_ratio = 1 - p_ratio\n",
    "    gini_p = (p_ratio)**2\n",
    "    gini_n = (n_ratio)**2\n",
    "    return 1 - gini_p - gini_n\n",
    "\n",
    "def gini_feature(data,feature):\n",
    "    unique_values = data[feature].unique()\n",
    "    feature_weights = [len(data[data[feature] == val]) for val in unique_values]\n",
    "    ginies = [gini(data[data[feature] == val]) for val in unique_values]\n",
    "    gini_feature_val = sum(feature_weights[i] / sum(feature_weights) * ginies[i] for i in range(len(unique_values)))\n",
    "    return gini_feature_val\n",
    "\n",
    "print(entropy(df))\n",
    "print(gini_feature(df,\"Income\"))\n",
    "print(gini_feature(df,\"Credit\"))"
   ]
  },
  {
   "cell_type": "code",
   "execution_count": 1,
   "id": "964c0f20",
   "metadata": {},
   "outputs": [
    {
     "ename": "NameError",
     "evalue": "name 'df' is not defined",
     "output_type": "error",
     "traceback": [
      "\u001b[0;31m---------------------------------------------------------------------------\u001b[0m",
      "\u001b[0;31mNameError\u001b[0m                                 Traceback (most recent call last)",
      "Cell \u001b[0;32mIn[1], line 13\u001b[0m\n\u001b[1;32m     11\u001b[0m         node\u001b[38;5;241m.\u001b[39mchildren[value] \u001b[38;5;241m=\u001b[39m build_cart_decision_tree(child_data, features\u001b[38;5;241m.\u001b[39mdrop(best_feature), target, best_feature, value)\n\u001b[1;32m     12\u001b[0m     \u001b[38;5;28;01mreturn\u001b[39;00m node\n\u001b[0;32m---> 13\u001b[0m features \u001b[38;5;241m=\u001b[39m \u001b[43mdf\u001b[49m\u001b[38;5;241m.\u001b[39mcolumns[:\u001b[38;5;241m-\u001b[39m\u001b[38;5;241m1\u001b[39m]\n\u001b[1;32m     14\u001b[0m target \u001b[38;5;241m=\u001b[39m \u001b[38;5;124m'\u001b[39m\u001b[38;5;124mLoan Approved\u001b[39m\u001b[38;5;124m'\u001b[39m\n\u001b[1;32m     16\u001b[0m decision_tree \u001b[38;5;241m=\u001b[39m build_cart_decision_tree(df, features, target)\n",
      "\u001b[0;31mNameError\u001b[0m: name 'df' is not defined"
     ]
    }
   ],
   "source": [
    "def build_cart_decision_tree(data, features, target, parent_feature=None, parent_feature_value=None):\n",
    "    node = Node(data, parent_feature, parent_feature_value)\n",
    "    if len(data['Loan Approved'].unique()) == 1:\n",
    "        return data['Loan Approved'].values[0]\n",
    "    if len(features) == 0:\n",
    "        return data['Loan Approved'].mode().values[0]\n",
    "    gini_indices = {feature: gini_feature(data, feature) for feature in features}\n",
    "    best_feature = min(gini_indices, key=gini_indices.get)\n",
    "    for value in data[best_feature].unique():\n",
    "        child_data = data[data[best_feature] == value].drop([best_feature], axis=1)\n",
    "        node.children[value] = build_cart_decision_tree(child_data, features.drop(best_feature), target, best_feature, value)\n",
    "    return node\n",
    "features = df.columns[:-1]\n",
    "target = 'Loan Approved'\n",
    "\n",
    "decision_tree = build_cart_decision_tree(df, features, target)\n",
    "def print_cart_decision_tree(node, indent=\"\"):\n",
    "    if isinstance(node, Node):\n",
    "        if node.parent_feature is not None:\n",
    "            print(indent + \"Feature: \" + node.parent_feature)\n",
    "            print(indent + \"Parent Feature Value: \" + str(node.parent_feature_value))\n",
    "\n",
    "        if len(node.children) == 0:\n",
    "            print(indent + \"Loan Approved: \" + str(node.data['Loan Approved'].values[0]))\n",
    "        else:\n",
    "            for value, child_node in node.children.items():\n",
    "                print(indent + \"Value: \" + str(value))\n",
    "                print_cart_decision_tree(child_node, indent + \"  \")\n",
    "    else:\n",
    "        print(indent + \"Approved?: \" + str(node))\n",
    "        \n",
    "print_cart_decision_tree(decision_tree)"
   ]
  },
  {
   "cell_type": "code",
   "execution_count": null,
   "id": "b1be3b37",
   "metadata": {},
   "outputs": [],
   "source": []
  }
 ],
 "metadata": {
  "kernelspec": {
   "display_name": "Python 3 (ipykernel)",
   "language": "python",
   "name": "python3"
  },
  "language_info": {
   "codemirror_mode": {
    "name": "ipython",
    "version": 3
   },
   "file_extension": ".py",
   "mimetype": "text/x-python",
   "name": "python",
   "nbconvert_exporter": "python",
   "pygments_lexer": "ipython3",
   "version": "3.12.3"
  }
 },
 "nbformat": 4,
 "nbformat_minor": 5
}
